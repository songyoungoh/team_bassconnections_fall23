{
  "nbformat": 4,
  "nbformat_minor": 0,
  "metadata": {
    "colab": {
      "provenance": [],
      "gpuType": "T4"
    },
    "kernelspec": {
      "name": "python3",
      "display_name": "Python 3"
    },
    "language_info": {
      "name": "python"
    },
    "accelerator": "GPU"
  },
  "cells": [
    {
      "cell_type": "code",
      "source": [
        "import os\n",
        "import shutil, pathlib, fnmatch\n",
        "from PIL import Image\n",
        "import numpy as np\n",
        "import matplotlib.pyplot as plt\n",
        "import torch\n",
        "import torch.nn as nn\n",
        "import torch.optim as optim\n",
        "import torchvision.transforms as transforms\n",
        "from torch.optim import lr_scheduler\n",
        "from torch.utils.data import DataLoader, TensorDataset\n",
        "from torchvision import transforms, models, datasets\n",
        "from sklearn.model_selection import train_test_split\n",
        "from sklearn.metrics import accuracy_score\n",
        "from zmq.constants import THREAD_AFFINITY_CPU_ADD\n",
        "from sklearn.metrics import confusion_matrix\n",
        "import seaborn as sns\n",
        "import random"
      ],
      "metadata": {
        "id": "WRChXIuWvM0t"
      },
      "execution_count": null,
      "outputs": []
    },
    {
      "cell_type": "code",
      "source": [
        "!unzip '/data/brazilian_coffee_dataset.zip'"
      ],
      "metadata": {
        "id": "S_NKoHFL6B2V"
      },
      "execution_count": null,
      "outputs": []
    },
    {
      "cell_type": "code",
      "source": [
        "#Fixes the fold layout of the data, puts all of the images together\n",
        "image1 = []\n",
        "image2 = []\n",
        "image3 = []\n",
        "image4 = []\n",
        "image5 = []\n",
        "folder_dir = '/content/brazilian_coffee_scenes/fold1'\n",
        "for images in os.listdir(folder_dir):\n",
        "    if (images.endswith(\".jpg\")):\n",
        "        image1.append(images)\n",
        "folder_dir = '/content/brazilian_coffee_scenes/fold2'\n",
        "for images2 in os.listdir(folder_dir):\n",
        "    if (images2.endswith(\".jpg\")):\n",
        "        image2.append(images2)\n",
        "folder_dir = '/content/brazilian_coffee_scenes/fold3'\n",
        "for images3 in os.listdir(folder_dir):\n",
        "    if (images3.endswith(\".jpg\")):\n",
        "        image3.append(images3)\n",
        "folder_dir = '/content/brazilian_coffee_scenes/fold4'\n",
        "for images4 in os.listdir(folder_dir):\n",
        "    if (images4.endswith(\".jpg\")):\n",
        "        image4.append(images4)\n",
        "folder_dir = '/content/brazilian_coffee_scenes/fold5'\n",
        "for images5 in os.listdir(folder_dir):\n",
        "    if (images5.endswith(\".jpg\")):\n",
        "        image5.append(images5)\n",
        "all_images = image1 + image2 + image3 + image4 + image5"
      ],
      "metadata": {
        "id": "uos0wq82vgvE"
      },
      "execution_count": null,
      "outputs": []
    },
    {
      "cell_type": "code",
      "source": [
        "#Seperates label from the name of the image\n",
        "os.chdir('/content/brazilian_coffee_scenes')\n",
        "fold1file = open(\"fold1.txt\")\n",
        "fold1content = fold1file.read()\n",
        "fold1split = fold1content.split()\n",
        "labels1 = []\n",
        "count = 0\n",
        "fold2file = open(\"fold2.txt\")\n",
        "fold2content = fold2file.read()\n",
        "fold2split = fold2content.split()\n",
        "labels2 = []\n",
        "fold3file = open(\"fold3.txt\")\n",
        "fold3content = fold3file.read()\n",
        "fold3split = fold3content.split()\n",
        "labels3 = []\n",
        "fold4file = open(\"fold4.txt\")\n",
        "fold4content = fold4file.read()\n",
        "fold4split = fold4content.split()\n",
        "labels4 = []\n",
        "fold5file = open(\"fold5.txt\")\n",
        "fold5content = fold5file.read()\n",
        "fold5split = fold5content.split()\n",
        "labels5 = []\n",
        "for label in fold1split:\n",
        "  labels1.append(label.split('.',1))\n",
        "for label in fold2split:\n",
        "  labels2.append(label.split('.',1))\n",
        "for label in fold3split:\n",
        "  labels3.append(label.split('.',1))\n",
        "for label in fold4split:\n",
        "  labels4.append(label.split('.',1))\n",
        "for label in fold5split:\n",
        "  labels5.append(label.split('.',1))\n",
        "all_labels = labels1 + labels2 + labels3 + labels4 + labels5\n",
        "all_labels = sorted(all_labels, key=lambda x: x[1])\n",
        "noncoffee = []\n",
        "coffee = []\n",
        "for pair in all_labels:\n",
        "  if (pair[0] == \"noncoffee\"):\n",
        "    noncoffee.append(pair[1] + \".jpg\")\n",
        "  elif (pair[0] == \"coffee\"):\n",
        "    coffee.append(pair[1] + \".jpg\")"
      ],
      "metadata": {
        "id": "2knBq2mCvl7H",
        "colab": {
          "base_uri": "https://localhost:8080/"
        },
        "outputId": "d488d299-eb4b-4817-bce7-9b58e9ca5c6b"
      },
      "execution_count": null,
      "outputs": [
        {
          "output_type": "stream",
          "name": "stdout",
          "text": [
            "['noncoffee', 'arceburgo.T1024.B1088.L2624.R2688']\n",
            "montesanto.T3456.B3520.L11712.R11776.jpg\n"
          ]
        }
      ]
    },
    {
      "cell_type": "code",
      "source": [
        "#For each fold, goes through and renames images with their classification label\n",
        "collection = \"/content/brazilian_coffee_scenes/fold1\"\n",
        "for i, filename in enumerate(os.listdir(collection)):\n",
        "  if(filename in coffee):\n",
        "    os.rename(\"/content/brazilian_coffee_scenes/fold1/\" + filename, \"coffee\" + filename)\n",
        "  elif(filename in noncoffee):\n",
        "    os.rename(\"/content/brazilian_coffee_scenes/fold1/\" + filename, \"non\" + filename)"
      ],
      "metadata": {
        "id": "l-Q4Qtr7vqS8"
      },
      "execution_count": null,
      "outputs": []
    },
    {
      "cell_type": "code",
      "source": [
        "collection = \"/content/brazilian_coffee_scenes/fold2\"\n",
        "for i, filename in enumerate(os.listdir(collection)):\n",
        "  if(filename in coffee):\n",
        "    os.rename(\"/content/brazilian_coffee_scenes/fold2/\" + filename, \"coffee\" + filename)\n",
        "  elif(filename in noncoffee):\n",
        "    os.rename(\"/content/brazilian_coffee_scenes/fold2/\" + filename, \"non\" + filename)"
      ],
      "metadata": {
        "id": "4Qr8Lb9DvvbM"
      },
      "execution_count": null,
      "outputs": []
    },
    {
      "cell_type": "code",
      "source": [
        "collection = \"/content/brazilian_coffee_scenes/fold3\"\n",
        "for i, filename in enumerate(os.listdir(collection)):\n",
        "  if(filename in coffee):\n",
        "    os.rename(\"/content/brazilian_coffee_scenes/fold3/\" + filename, \"coffee\" + filename)\n",
        "  elif(filename in noncoffee):\n",
        "    os.rename(\"/content/brazilian_coffee_scenes/fold3/\" + filename, \"non\" + filename)"
      ],
      "metadata": {
        "id": "-gV3vxLFvxdg"
      },
      "execution_count": null,
      "outputs": []
    },
    {
      "cell_type": "code",
      "source": [
        "\n",
        "collection = \"/content/brazilian_coffee_scenes/fold4\"\n",
        "for i, filename in enumerate(os.listdir(collection)):\n",
        "  if(filename in coffee):\n",
        "    os.rename(\"/content/brazilian_coffee_scenes/fold4/\" + filename, \"coffee\" + filename)\n",
        "  elif(filename in noncoffee):\n",
        "    os.rename(\"/content/brazilian_coffee_scenes/fold4/\" + filename, \"non\" + filename)"
      ],
      "metadata": {
        "id": "X4kosp-mvzPk"
      },
      "execution_count": null,
      "outputs": []
    },
    {
      "cell_type": "code",
      "source": [
        "collection = \"/content/brazilian_coffee_scenes/fold5\"\n",
        "for i, filename in enumerate(os.listdir(collection)):\n",
        "  if(filename in coffee):\n",
        "    os.rename(\"/content/brazilian_coffee_scenes/fold5/\" + filename, \"coffee\" + filename)\n",
        "  elif(filename in noncoffee):\n",
        "    os.rename(\"/content/brazilian_coffee_scenes/fold5/\" + filename, \"non\" + filename)\n"
      ],
      "metadata": {
        "id": "t5_0tYT_v04K"
      },
      "execution_count": null,
      "outputs": []
    },
    {
      "cell_type": "code",
      "source": [
        "#Creating NonCoffee and Coffee folders of the appropriate images\n",
        "coffee_dir = os.path.join(\"/content\", \"coffee\")\n",
        "noncoffee_dir = os.path.join(\"/content\", \"test\")\n",
        "os.makedirs(coffee_dir, exist_ok=True)\n",
        "os.makedirs(noncoffee_dir, exist_ok=True)\n",
        "collection = \"/content/brazilian_coffee_scenes\"\n",
        "for file in enumerate(os.listdir(collection)):\n",
        "  if \"coffee\" in file[1]:\n",
        "    shutil.move(os.path.join(collection, file[1]),os.path.join(\"/content/Coffee\", file[1]))\n",
        "  elif \"non\" in file[1]:\n",
        "    shutil.move(os.path.join(collection, file[1]),os.path.join(\"/content/NonCoffee\", file[1]))"
      ],
      "metadata": {
        "id": "_I49PTLkv3yn"
      },
      "execution_count": null,
      "outputs": []
    },
    {
      "cell_type": "code",
      "source": [
        "#Splitting into test/train\n",
        "#Muaz created test and train definition\n",
        "def train_test_split_folder(base_dir, output_dir, test_size=0.2):\n",
        "    #Creating train and test folders\n",
        "    train_dir = os.path.join(output_dir, \"train\")\n",
        "    test_dir = os.path.join(output_dir, \"test\")\n",
        "    os.makedirs(train_dir, exist_ok=True)\n",
        "    os.makedirs(test_dir, exist_ok=True)\n",
        "    # List classes based on subdirectory names\n",
        "    classes = [d for d in os.listdir(base_dir) if os.path.isdir(os.path.join(base_dir, d))]\n",
        "    for cls in classes:\n",
        "        # Create output directories for this class\n",
        "        os.makedirs(os.path.join(train_dir, cls), exist_ok=True)\n",
        "        os.makedirs(os.path.join(test_dir, cls), exist_ok=True)\n",
        "        # List all jpg images in this class\n",
        "        images = [f for f in os.listdir(os.path.join(base_dir, cls)) if f.endswith(('.jpg'))]\n",
        "        # Shuffle the images\n",
        "        random.shuffle(images)\n",
        "        # Split point\n",
        "        split_point = int(len(images) * (1 - test_size))\n",
        "        # Split the images into train and test sets\n",
        "        train_images = images[:split_point]\n",
        "        test_images = images[split_point:]\n",
        "        # Move the images\n",
        "        for img in train_images:\n",
        "            shutil.copy(os.path.join(base_dir, cls, img), os.path.join(train_dir, cls, img))\n",
        "        for img in test_images:\n",
        "            shutil.copy(os.path.join(base_dir, cls, img), os.path.join(test_dir, cls, img))\n",
        "        print(f\"Processed {cls} - {len(train_images)} training, {len(test_images)} test\")\n",
        "\n",
        "train_test_split_folder(\"/content\", \"/content\", test_size=0.2)"
      ],
      "metadata": {
        "id": "LalxIs_owBi1",
        "colab": {
          "base_uri": "https://localhost:8080/"
        },
        "outputId": "985a112f-64d5-4df2-cfe6-53b344815c1d"
      },
      "execution_count": null,
      "outputs": [
        {
          "output_type": "stream",
          "name": "stdout",
          "text": [
            "Processed NonCoffee - 1150 training, 288 test\n",
            "Processed Coffee - 1150 training, 288 test\n"
          ]
        }
      ]
    },
    {
      "cell_type": "code",
      "source": [
        "#This code was changed for each experimental condition, explanation of how to do this is in the ReadMe\n",
        "train_dir = '/content/train'\n",
        "\n",
        "train_images = []\n",
        "train_labels = []\n",
        "for label in os.listdir(train_dir):\n",
        "    label_dir = os.path.join(train_dir, label)\n",
        "\n",
        "    for image_file in os.listdir(label_dir):\n",
        "        image_path = os.path.join(label_dir, image_file)\n",
        "        image = Image.open(image_path)\n",
        "        image_array = np.array(image)\n",
        "        #image_array[:,:,0] = np.zeros((64,64))\n",
        "        #image_array[:,:,1] = np.zeros((64,64))\n",
        "        #image_array[:,:,2] = np.zeros((64,64))\n",
        "        train_images.append(image_array)\n",
        "        train_labels.append(label)\n",
        "\n",
        "# Convert the lists to numpy arrays\n",
        "train_images = np.array(train_images)\n",
        "train_labels = np.array(train_labels)\n",
        "\n",
        "# Print the length of images and labels\n",
        "print('Number of Images: ', len(train_images))\n",
        "print('Number of Labels: ', len(train_labels))\n",
        "\n",
        "# Visualize the first image\n",
        "plt.imshow(train_images[0])\n",
        "plt.title(f'Label: {train_labels[0]}')\n",
        "plt.show()"
      ],
      "metadata": {
        "id": "J_w0aXCrwQHN",
        "colab": {
          "base_uri": "https://localhost:8080/",
          "height": 488
        },
        "outputId": "88fa32eb-5d3a-4ee1-9fe2-eeef4744b000"
      },
      "execution_count": null,
      "outputs": [
        {
          "output_type": "stream",
          "name": "stdout",
          "text": [
            "Number of Images:  2300\n",
            "Number of Labels:  2300\n"
          ]
        },
        {
          "output_type": "display_data",
          "data": {
            "text/plain": [
              "<Figure size 640x480 with 1 Axes>"
            ],
            "image/png": "[encoded data removed]"
          },
          "metadata": {}
        }
      ]
    },
    {
      "cell_type": "code",
      "source": [
        "#This code (modifying the test dataset) was also modified for each experimental condition, details are in the ReadMe\n",
        "test_dir = '/content/test'\n",
        "\n",
        "# Initialize empty lists to store images and labels\n",
        "test_images = []\n",
        "test_labels = []\n",
        "\n",
        "# Iterate through each subfolder\n",
        "for label in os.listdir(test_dir):\n",
        "    label_dir = os.path.join(test_dir, label)\n",
        "\n",
        "    for image_file in os.listdir(label_dir):\n",
        "        image_path = os.path.join(label_dir, image_file)\n",
        "        image = Image.open(image_path)\n",
        "        image_array = np.array(image)\n",
        "        #image_array[:,:,0] = np.zeros((64,64))\n",
        "        #image_array[:,:,1] = np.zeros((64,64))\n",
        "        #image_array[:,:,2] = np.zeros((64,64))\n",
        "        test_images.append(image_array)\n",
        "        test_labels.append(label)\n",
        "\n",
        "# Convert the lists to numpy arrays\n",
        "test_images = np.array(test_images)\n",
        "test_labels = np.array(test_labels)\n",
        "\n",
        "# Print the length of images and labels\n",
        "print('Number of Images: ', len(test_images))\n",
        "print('Number of Labels: ', len(test_labels))\n",
        "\n",
        "# Visualize the first image\n",
        "plt.imshow(test_images[0])\n",
        "plt.title(f'Label: {test_labels[0]}')\n",
        "plt.show()"
      ],
      "metadata": {
        "id": "onpAOAkEywj-",
        "colab": {
          "base_uri": "https://localhost:8080/",
          "height": 488
        },
        "outputId": "97992586-a9ef-4852-ecea-35ff8f98d799"
      },
      "execution_count": null,
      "outputs": [
        {
          "output_type": "stream",
          "name": "stdout",
          "text": [
            "Number of Images:  576\n",
            "Number of Labels:  576\n"
          ]
        },
        {
          "output_type": "display_data",
          "data": {
            "text/plain": [
              "<Figure size 640x480 with 1 Axes>"
            ],
            "image/png": "[encoded data removed]"
          },
          "metadata": {}
        }
      ]
    },
    {
      "cell_type": "code",
      "source": [
        "x_train, y_train = train['images'], train['labels']\n",
        "X_test, y_test = test['images'], test['labels']"
      ],
      "metadata": {
        "id": "o_iFci3bzC-y"
      },
      "execution_count": null,
      "outputs": []
    },
    {
      "cell_type": "code",
      "source": [
        "class CustomDataset(torch.utils.data.Dataset):\n",
        "    def __init__(self, X, y, transform=None):\n",
        "        self.X = X\n",
        "        self.y = y\n",
        "        self.transform = transform\n",
        "\n",
        "    def __len__(self):\n",
        "        return len(self.X)\n",
        "\n",
        "    def __getitem__(self, index):\n",
        "        x = self.X[index]\n",
        "        if self.transform:\n",
        "            x = self.transform(x)\n",
        "        return x, self.y[index]"
      ],
      "metadata": {
        "id": "zkGvSF3CzG08"
      },
      "execution_count": null,
      "outputs": []
    },
    {
      "cell_type": "code",
      "source": [
        "# Image transformation\n",
        "transform = transforms.Compose([\n",
        "    transforms.Resize((224, 224)),\n",
        "    transforms.ToTensor(),\n",
        "    transforms.Normalize(mean=[0.485, 0.456, 0.406], std=[0.229, 0.224, 0.225])\n",
        "])"
      ],
      "metadata": {
        "id": "ZH6A99mMzIvK"
      },
      "execution_count": null,
      "outputs": []
    },
    {
      "cell_type": "code",
      "source": [
        "# DataLoader for training and testing sets\n",
        "batch_size = 32\n",
        "train_dataset = CustomDataset(x_train, y_train, transform)\n",
        "train_loader = DataLoader(train_dataset, batch_size=batch_size, shuffle=True)\n",
        "test_dataset = CustomDataset(X_test, y_test, transform)\n",
        "test_loader = DataLoader(test_dataset, batch_size=batch_size)"
      ],
      "metadata": {
        "id": "u8t_LTA1zK7g"
      },
      "execution_count": null,
      "outputs": []
    },
    {
      "cell_type": "code",
      "source": [
        "# List unique labels\n",
        "unique_labels = list(set(list(y_train)))\n",
        "\n",
        "# Create a label mapping from string labels to integers\n",
        "#like key-value pair in java\n",
        "label_mapping = {label: idx for idx, label in enumerate(unique_labels)}\n",
        "\n",
        "# Define a custom function to convert string labels to integers\n",
        "def labels_to_integers(labels, label_mapping):\n",
        "    return [label_mapping[label] for label in labels]"
      ],
      "metadata": {
        "id": "yJ_ToOqazNN3"
      },
      "execution_count": null,
      "outputs": []
    },
    {
      "cell_type": "code",
      "source": [
        "# Define transformation of each image\n",
        "splits_dir = os.path.join(\"/content\", \"Train_Test_Splits/\")\n",
        "os.makedirs(splits_dir, exist_ok=True)\n",
        "# Make Train_Test_Splits folder\n",
        "transform = transforms.Compose([\n",
        "    transforms.Resize((224, 224)),\n",
        "    transforms.ToTensor(),\n",
        "    transforms.Normalize(mean=[0.485, 0.456, 0.406], std=[0.229, 0.224, 0.225])\n",
        "])\n",
        "\n",
        "# Load EuroSAT dataset\n",
        "#more efficient than prev.\n",
        "data_dir = splits_dir\n",
        "image_datasets = {x: datasets.ImageFolder(os.path.join(data_dir, x), transform) for x in ['train', 'test']}\n",
        "dataloaders = {x: torch.utils.data.DataLoader(image_datasets[x], batch_size=64, shuffle=True, num_workers=4) for x in ['train', 'test']}"
      ],
      "metadata": {
        "id": "IELpctbRzPM2",
        "colab": {
          "base_uri": "https://localhost:8080/",
          "height": 399
        },
        "outputId": "3de10d01-cfbe-4fc4-e321-a050cf7ba44c"
      },
      "execution_count": null,
      "outputs": [
        {
          "output_type": "error",
          "ename": "FileNotFoundError",
          "evalue": "ignored",
          "traceback": [
            "\u001b[0;31m---------------------------------------------------------------------------\u001b[0m",
            "\u001b[0;31mFileNotFoundError\u001b[0m                         Traceback (most recent call last)",
            "\u001b[0;32m<ipython-input-23-7f07e6cf0f70>\u001b[0m in \u001b[0;36m<cell line: 13>\u001b[0;34m()\u001b[0m\n\u001b[1;32m     11\u001b[0m \u001b[0mdata_dir\u001b[0m \u001b[0;34m=\u001b[0m \u001b[0;34m'/content/Train_Test_Splits/'\u001b[0m\u001b[0;34m\u001b[0m\u001b[0;34m\u001b[0m\u001b[0m\n\u001b[1;32m     12\u001b[0m \u001b[0;31m# data_dir = '/content/RedNon5'\u001b[0m\u001b[0;34m\u001b[0m\u001b[0;34m\u001b[0m\u001b[0m\n\u001b[0;32m---> 13\u001b[0;31m \u001b[0mimage_datasets\u001b[0m \u001b[0;34m=\u001b[0m \u001b[0;34m{\u001b[0m\u001b[0mx\u001b[0m\u001b[0;34m:\u001b[0m \u001b[0mdatasets\u001b[0m\u001b[0;34m.\u001b[0m\u001b[0mImageFolder\u001b[0m\u001b[0;34m(\u001b[0m\u001b[0mos\u001b[0m\u001b[0;34m.\u001b[0m\u001b[0mpath\u001b[0m\u001b[0;34m.\u001b[0m\u001b[0mjoin\u001b[0m\u001b[0;34m(\u001b[0m\u001b[0mdata_dir\u001b[0m\u001b[0;34m,\u001b[0m \u001b[0mx\u001b[0m\u001b[0;34m)\u001b[0m\u001b[0;34m,\u001b[0m \u001b[0mtransform\u001b[0m\u001b[0;34m)\u001b[0m \u001b[0;32mfor\u001b[0m \u001b[0mx\u001b[0m \u001b[0;32min\u001b[0m \u001b[0;34m[\u001b[0m\u001b[0;34m'train'\u001b[0m\u001b[0;34m,\u001b[0m \u001b[0;34m'test'\u001b[0m\u001b[0;34m]\u001b[0m\u001b[0;34m}\u001b[0m\u001b[0;34m\u001b[0m\u001b[0;34m\u001b[0m\u001b[0m\n\u001b[0m\u001b[1;32m     14\u001b[0m \u001b[0mdataloaders\u001b[0m \u001b[0;34m=\u001b[0m \u001b[0;34m{\u001b[0m\u001b[0mx\u001b[0m\u001b[0;34m:\u001b[0m \u001b[0mtorch\u001b[0m\u001b[0;34m.\u001b[0m\u001b[0mutils\u001b[0m\u001b[0;34m.\u001b[0m\u001b[0mdata\u001b[0m\u001b[0;34m.\u001b[0m\u001b[0mDataLoader\u001b[0m\u001b[0;34m(\u001b[0m\u001b[0mimage_datasets\u001b[0m\u001b[0;34m[\u001b[0m\u001b[0mx\u001b[0m\u001b[0;34m]\u001b[0m\u001b[0;34m,\u001b[0m \u001b[0mbatch_size\u001b[0m\u001b[0;34m=\u001b[0m\u001b[0;36m64\u001b[0m\u001b[0;34m,\u001b[0m \u001b[0mshuffle\u001b[0m\u001b[0;34m=\u001b[0m\u001b[0;32mTrue\u001b[0m\u001b[0;34m,\u001b[0m \u001b[0mnum_workers\u001b[0m\u001b[0;34m=\u001b[0m\u001b[0;36m4\u001b[0m\u001b[0;34m)\u001b[0m \u001b[0;32mfor\u001b[0m \u001b[0mx\u001b[0m \u001b[0;32min\u001b[0m \u001b[0;34m[\u001b[0m\u001b[0;34m'train'\u001b[0m\u001b[0;34m,\u001b[0m \u001b[0;34m'test'\u001b[0m\u001b[0;34m]\u001b[0m\u001b[0;34m}\u001b[0m\u001b[0;34m\u001b[0m\u001b[0;34m\u001b[0m\u001b[0m\n",
            "\u001b[0;32m<ipython-input-23-7f07e6cf0f70>\u001b[0m in \u001b[0;36m<dictcomp>\u001b[0;34m(.0)\u001b[0m\n\u001b[1;32m     11\u001b[0m \u001b[0mdata_dir\u001b[0m \u001b[0;34m=\u001b[0m \u001b[0;34m'/content/Train_Test_Splits/'\u001b[0m\u001b[0;34m\u001b[0m\u001b[0;34m\u001b[0m\u001b[0m\n\u001b[1;32m     12\u001b[0m \u001b[0;31m# data_dir = '/content/RedNon5'\u001b[0m\u001b[0;34m\u001b[0m\u001b[0;34m\u001b[0m\u001b[0m\n\u001b[0;32m---> 13\u001b[0;31m \u001b[0mimage_datasets\u001b[0m \u001b[0;34m=\u001b[0m \u001b[0;34m{\u001b[0m\u001b[0mx\u001b[0m\u001b[0;34m:\u001b[0m \u001b[0mdatasets\u001b[0m\u001b[0;34m.\u001b[0m\u001b[0mImageFolder\u001b[0m\u001b[0;34m(\u001b[0m\u001b[0mos\u001b[0m\u001b[0;34m.\u001b[0m\u001b[0mpath\u001b[0m\u001b[0;34m.\u001b[0m\u001b[0mjoin\u001b[0m\u001b[0;34m(\u001b[0m\u001b[0mdata_dir\u001b[0m\u001b[0;34m,\u001b[0m \u001b[0mx\u001b[0m\u001b[0;34m)\u001b[0m\u001b[0;34m,\u001b[0m \u001b[0mtransform\u001b[0m\u001b[0;34m)\u001b[0m \u001b[0;32mfor\u001b[0m \u001b[0mx\u001b[0m \u001b[0;32min\u001b[0m \u001b[0;34m[\u001b[0m\u001b[0;34m'train'\u001b[0m\u001b[0;34m,\u001b[0m \u001b[0;34m'test'\u001b[0m\u001b[0;34m]\u001b[0m\u001b[0;34m}\u001b[0m\u001b[0;34m\u001b[0m\u001b[0;34m\u001b[0m\u001b[0m\n\u001b[0m\u001b[1;32m     14\u001b[0m \u001b[0mdataloaders\u001b[0m \u001b[0;34m=\u001b[0m \u001b[0;34m{\u001b[0m\u001b[0mx\u001b[0m\u001b[0;34m:\u001b[0m \u001b[0mtorch\u001b[0m\u001b[0;34m.\u001b[0m\u001b[0mutils\u001b[0m\u001b[0;34m.\u001b[0m\u001b[0mdata\u001b[0m\u001b[0;34m.\u001b[0m\u001b[0mDataLoader\u001b[0m\u001b[0;34m(\u001b[0m\u001b[0mimage_datasets\u001b[0m\u001b[0;34m[\u001b[0m\u001b[0mx\u001b[0m\u001b[0;34m]\u001b[0m\u001b[0;34m,\u001b[0m \u001b[0mbatch_size\u001b[0m\u001b[0;34m=\u001b[0m\u001b[0;36m64\u001b[0m\u001b[0;34m,\u001b[0m \u001b[0mshuffle\u001b[0m\u001b[0;34m=\u001b[0m\u001b[0;32mTrue\u001b[0m\u001b[0;34m,\u001b[0m \u001b[0mnum_workers\u001b[0m\u001b[0;34m=\u001b[0m\u001b[0;36m4\u001b[0m\u001b[0;34m)\u001b[0m \u001b[0;32mfor\u001b[0m \u001b[0mx\u001b[0m \u001b[0;32min\u001b[0m \u001b[0;34m[\u001b[0m\u001b[0;34m'train'\u001b[0m\u001b[0;34m,\u001b[0m \u001b[0;34m'test'\u001b[0m\u001b[0;34m]\u001b[0m\u001b[0;34m}\u001b[0m\u001b[0;34m\u001b[0m\u001b[0;34m\u001b[0m\u001b[0m\n",
            "\u001b[0;32m/usr/local/lib/python3.10/dist-packages/torchvision/datasets/folder.py\u001b[0m in \u001b[0;36m__init__\u001b[0;34m(self, root, transform, target_transform, loader, is_valid_file)\u001b[0m\n\u001b[1;32m    307\u001b[0m         \u001b[0mis_valid_file\u001b[0m\u001b[0;34m:\u001b[0m \u001b[0mOptional\u001b[0m\u001b[0;34m[\u001b[0m\u001b[0mCallable\u001b[0m\u001b[0;34m[\u001b[0m\u001b[0;34m[\u001b[0m\u001b[0mstr\u001b[0m\u001b[0;34m]\u001b[0m\u001b[0;34m,\u001b[0m \u001b[0mbool\u001b[0m\u001b[0;34m]\u001b[0m\u001b[0;34m]\u001b[0m \u001b[0;34m=\u001b[0m \u001b[0;32mNone\u001b[0m\u001b[0;34m,\u001b[0m\u001b[0;34m\u001b[0m\u001b[0;34m\u001b[0m\u001b[0m\n\u001b[1;32m    308\u001b[0m     ):\n\u001b[0;32m--> 309\u001b[0;31m         super().__init__(\n\u001b[0m\u001b[1;32m    310\u001b[0m             \u001b[0mroot\u001b[0m\u001b[0;34m,\u001b[0m\u001b[0;34m\u001b[0m\u001b[0;34m\u001b[0m\u001b[0m\n\u001b[1;32m    311\u001b[0m             \u001b[0mloader\u001b[0m\u001b[0;34m,\u001b[0m\u001b[0;34m\u001b[0m\u001b[0;34m\u001b[0m\u001b[0m\n",
            "\u001b[0;32m/usr/local/lib/python3.10/dist-packages/torchvision/datasets/folder.py\u001b[0m in \u001b[0;36m__init__\u001b[0;34m(self, root, loader, extensions, transform, target_transform, is_valid_file)\u001b[0m\n\u001b[1;32m    142\u001b[0m     ) -> None:\n\u001b[1;32m    143\u001b[0m         \u001b[0msuper\u001b[0m\u001b[0;34m(\u001b[0m\u001b[0;34m)\u001b[0m\u001b[0;34m.\u001b[0m\u001b[0m__init__\u001b[0m\u001b[0;34m(\u001b[0m\u001b[0mroot\u001b[0m\u001b[0;34m,\u001b[0m \u001b[0mtransform\u001b[0m\u001b[0;34m=\u001b[0m\u001b[0mtransform\u001b[0m\u001b[0;34m,\u001b[0m \u001b[0mtarget_transform\u001b[0m\u001b[0;34m=\u001b[0m\u001b[0mtarget_transform\u001b[0m\u001b[0;34m)\u001b[0m\u001b[0;34m\u001b[0m\u001b[0;34m\u001b[0m\u001b[0m\n\u001b[0;32m--> 144\u001b[0;31m         \u001b[0mclasses\u001b[0m\u001b[0;34m,\u001b[0m \u001b[0mclass_to_idx\u001b[0m \u001b[0;34m=\u001b[0m \u001b[0mself\u001b[0m\u001b[0;34m.\u001b[0m\u001b[0mfind_classes\u001b[0m\u001b[0;34m(\u001b[0m\u001b[0mself\u001b[0m\u001b[0;34m.\u001b[0m\u001b[0mroot\u001b[0m\u001b[0;34m)\u001b[0m\u001b[0;34m\u001b[0m\u001b[0;34m\u001b[0m\u001b[0m\n\u001b[0m\u001b[1;32m    145\u001b[0m         \u001b[0msamples\u001b[0m \u001b[0;34m=\u001b[0m \u001b[0mself\u001b[0m\u001b[0;34m.\u001b[0m\u001b[0mmake_dataset\u001b[0m\u001b[0;34m(\u001b[0m\u001b[0mself\u001b[0m\u001b[0;34m.\u001b[0m\u001b[0mroot\u001b[0m\u001b[0;34m,\u001b[0m \u001b[0mclass_to_idx\u001b[0m\u001b[0;34m,\u001b[0m \u001b[0mextensions\u001b[0m\u001b[0;34m,\u001b[0m \u001b[0mis_valid_file\u001b[0m\u001b[0;34m)\u001b[0m\u001b[0;34m\u001b[0m\u001b[0;34m\u001b[0m\u001b[0m\n\u001b[1;32m    146\u001b[0m \u001b[0;34m\u001b[0m\u001b[0m\n",
            "\u001b[0;32m/usr/local/lib/python3.10/dist-packages/torchvision/datasets/folder.py\u001b[0m in \u001b[0;36mfind_classes\u001b[0;34m(self, directory)\u001b[0m\n\u001b[1;32m    216\u001b[0m             \u001b[0;34m(\u001b[0m\u001b[0mTuple\u001b[0m\u001b[0;34m[\u001b[0m\u001b[0mList\u001b[0m\u001b[0;34m[\u001b[0m\u001b[0mstr\u001b[0m\u001b[0;34m]\u001b[0m\u001b[0;34m,\u001b[0m \u001b[0mDict\u001b[0m\u001b[0;34m[\u001b[0m\u001b[0mstr\u001b[0m\u001b[0;34m,\u001b[0m \u001b[0mint\u001b[0m\u001b[0;34m]\u001b[0m\u001b[0;34m]\u001b[0m\u001b[0;34m)\u001b[0m\u001b[0;34m:\u001b[0m \u001b[0mList\u001b[0m \u001b[0mof\u001b[0m \u001b[0mall\u001b[0m \u001b[0mclasses\u001b[0m \u001b[0;32mand\u001b[0m \u001b[0mdictionary\u001b[0m \u001b[0mmapping\u001b[0m \u001b[0meach\u001b[0m \u001b[0;32mclass\u001b[0m \u001b[0mto\u001b[0m \u001b[0man\u001b[0m \u001b[0mindex\u001b[0m\u001b[0;34m.\u001b[0m\u001b[0;34m\u001b[0m\u001b[0;34m\u001b[0m\u001b[0m\n\u001b[1;32m    217\u001b[0m         \"\"\"\n\u001b[0;32m--> 218\u001b[0;31m         \u001b[0;32mreturn\u001b[0m \u001b[0mfind_classes\u001b[0m\u001b[0;34m(\u001b[0m\u001b[0mdirectory\u001b[0m\u001b[0;34m)\u001b[0m\u001b[0;34m\u001b[0m\u001b[0;34m\u001b[0m\u001b[0m\n\u001b[0m\u001b[1;32m    219\u001b[0m \u001b[0;34m\u001b[0m\u001b[0m\n\u001b[1;32m    220\u001b[0m     \u001b[0;32mdef\u001b[0m \u001b[0m__getitem__\u001b[0m\u001b[0;34m(\u001b[0m\u001b[0mself\u001b[0m\u001b[0;34m,\u001b[0m \u001b[0mindex\u001b[0m\u001b[0;34m:\u001b[0m \u001b[0mint\u001b[0m\u001b[0;34m)\u001b[0m \u001b[0;34m->\u001b[0m \u001b[0mTuple\u001b[0m\u001b[0;34m[\u001b[0m\u001b[0mAny\u001b[0m\u001b[0;34m,\u001b[0m \u001b[0mAny\u001b[0m\u001b[0;34m]\u001b[0m\u001b[0;34m:\u001b[0m\u001b[0;34m\u001b[0m\u001b[0;34m\u001b[0m\u001b[0m\n",
            "\u001b[0;32m/usr/local/lib/python3.10/dist-packages/torchvision/datasets/folder.py\u001b[0m in \u001b[0;36mfind_classes\u001b[0;34m(directory)\u001b[0m\n\u001b[1;32m     38\u001b[0m     \u001b[0mSee\u001b[0m \u001b[0;34m:\u001b[0m\u001b[0;32mclass\u001b[0m\u001b[0;34m:\u001b[0m\u001b[0;31m`\u001b[0m\u001b[0mDatasetFolder\u001b[0m\u001b[0;31m`\u001b[0m \u001b[0;32mfor\u001b[0m \u001b[0mdetails\u001b[0m\u001b[0;34m.\u001b[0m\u001b[0;34m\u001b[0m\u001b[0;34m\u001b[0m\u001b[0m\n\u001b[1;32m     39\u001b[0m     \"\"\"\n\u001b[0;32m---> 40\u001b[0;31m     \u001b[0mclasses\u001b[0m \u001b[0;34m=\u001b[0m \u001b[0msorted\u001b[0m\u001b[0;34m(\u001b[0m\u001b[0mentry\u001b[0m\u001b[0;34m.\u001b[0m\u001b[0mname\u001b[0m \u001b[0;32mfor\u001b[0m \u001b[0mentry\u001b[0m \u001b[0;32min\u001b[0m \u001b[0mos\u001b[0m\u001b[0;34m.\u001b[0m\u001b[0mscandir\u001b[0m\u001b[0;34m(\u001b[0m\u001b[0mdirectory\u001b[0m\u001b[0;34m)\u001b[0m \u001b[0;32mif\u001b[0m \u001b[0mentry\u001b[0m\u001b[0;34m.\u001b[0m\u001b[0mis_dir\u001b[0m\u001b[0;34m(\u001b[0m\u001b[0;34m)\u001b[0m\u001b[0;34m)\u001b[0m\u001b[0;34m\u001b[0m\u001b[0;34m\u001b[0m\u001b[0m\n\u001b[0m\u001b[1;32m     41\u001b[0m     \u001b[0;32mif\u001b[0m \u001b[0;32mnot\u001b[0m \u001b[0mclasses\u001b[0m\u001b[0;34m:\u001b[0m\u001b[0;34m\u001b[0m\u001b[0;34m\u001b[0m\u001b[0m\n\u001b[1;32m     42\u001b[0m         \u001b[0;32mraise\u001b[0m \u001b[0mFileNotFoundError\u001b[0m\u001b[0;34m(\u001b[0m\u001b[0;34mf\"Couldn't find any class folder in {directory}.\"\u001b[0m\u001b[0;34m)\u001b[0m\u001b[0;34m\u001b[0m\u001b[0;34m\u001b[0m\u001b[0m\n",
            "\u001b[0;31mFileNotFoundError\u001b[0m: [Errno 2] No such file or directory: '/content/Train_Test_Splits/train'"
          ]
        }
      ]
    },
    {
      "cell_type": "code",
      "source": [
        "# Load pre-trained ResNet-50 model\n",
        "model = models.resnet50(pretrained=True)\n",
        "num_classes = 2\n",
        "\n",
        "# Modify the final fully connected layer to match the number of classes\n",
        "model.fc = nn.Linear(model.fc.in_features, num_classes)\n",
        "\n",
        "# Move the model to the GPU if available\n",
        "#define device var\n",
        "#cuda = gpu\n",
        "device = torch.device(\"cuda:0\" if torch.cuda.is_available() else \"cpu\")\n",
        "model = model.to(device)\n",
        "# Define loss function and optimizer\n",
        "loss_fn = nn.CrossEntropyLoss()\n",
        "optimizer = optim.SGD(model.parameters(), lr=0.001, momentum=0.9)"
      ],
      "metadata": {
        "id": "Y49jNKpczSPn",
        "colab": {
          "base_uri": "https://localhost:8080/"
        },
        "outputId": "f0f9dbfd-9b62-401b-dbe0-cb968e2c3d63"
      },
      "execution_count": null,
      "outputs": [
        {
          "output_type": "stream",
          "name": "stderr",
          "text": [
            "/usr/local/lib/python3.10/dist-packages/torchvision/models/_utils.py:208: UserWarning: The parameter 'pretrained' is deprecated since 0.13 and may be removed in the future, please use 'weights' instead.\n",
            "  warnings.warn(\n",
            "/usr/local/lib/python3.10/dist-packages/torchvision/models/_utils.py:223: UserWarning: Arguments other than a weight enum or `None` for 'weights' are deprecated since 0.13 and may be removed in the future. The current behavior is equivalent to passing `weights=ResNet50_Weights.IMAGENET1K_V1`. You can also use `weights=ResNet50_Weights.DEFAULT` to get the most up-to-date weights.\n",
            "  warnings.warn(msg)\n",
            "Downloading: \"https://download.pytorch.org/models/resnet50-0676ba61.pth\" to /root/.cache/torch/hub/checkpoints/resnet50-0676ba61.pth\n",
            "100%|██████████| 97.8M/97.8M [00:00<00:00, 158MB/s]\n"
          ]
        }
      ]
    },
    {
      "cell_type": "code",
      "source": [
        "#define training loop with a for loop\n",
        "# Training loop\n",
        "def train_model(model, dataloaders, loss_fn, optimizer, num_epochs):\n",
        "    for epoch in range(num_epochs):\n",
        "        for phase in ['train', 'test']:\n",
        "            if phase == 'train':\n",
        "                model.train()\n",
        "            else:\n",
        "                model.eval()\n",
        "            running_loss = 0.0\n",
        "            corrects = 0\n",
        "            for inputs, labels in dataloaders[phase]:\n",
        "                inputs = inputs.to(device)\n",
        "                labels = labels.to(device)\n",
        "                optimizer.zero_grad()\n",
        "                with torch.set_grad_enabled(phase == 'train'):\n",
        "                    outputs = model(inputs)\n",
        "                    _, preds = torch.max(outputs, 1)\n",
        "                    loss = loss_fn(outputs, labels)\n",
        "                    if phase == 'train':\n",
        "                        loss.backward()\n",
        "                        optimizer.step()\n",
        "                running_loss += loss.item() * inputs.size(0)\n",
        "                corrects += torch.sum(preds == labels.data)\n",
        "            epoch_loss = running_loss / len(image_datasets[phase])\n",
        "            epoch_acc = corrects.double() / len(image_datasets[phase])\n",
        "            print(f'{phase} Loss: {epoch_loss:.4f} Acc: {epoch_acc:.4f}')\n",
        "# Train the model\n",
        "train_model(model, dataloaders, loss_fn, optimizer, num_epochs=10)"
      ],
      "metadata": {
        "id": "B1ZqUZUkzadE",
        "colab": {
          "base_uri": "https://localhost:8080/"
        },
        "outputId": "5e260118-bfde-4821-f5da-143643352635"
      },
      "execution_count": null,
      "outputs": [
        {
          "output_type": "stream",
          "name": "stdout",
          "text": [
            "train Loss: 0.4801 Acc: 0.7991\n",
            "test Loss: 0.3578 Acc: 0.8316\n",
            "train Loss: 0.2615 Acc: 0.8961\n",
            "test Loss: 0.2641 Acc: 0.8872\n",
            "train Loss: 0.1816 Acc: 0.9339\n",
            "test Loss: 0.2388 Acc: 0.8941\n",
            "train Loss: 0.1311 Acc: 0.9509\n",
            "test Loss: 0.2094 Acc: 0.9201\n",
            "train Loss: 0.0869 Acc: 0.9743\n",
            "test Loss: 0.2213 Acc: 0.9184\n",
            "train Loss: 0.0505 Acc: 0.9870\n",
            "test Loss: 0.2116 Acc: 0.9201\n",
            "train Loss: 0.0355 Acc: 0.9948\n",
            "test Loss: 0.2188 Acc: 0.9132\n",
            "train Loss: 0.0262 Acc: 0.9970\n",
            "test Loss: 0.2433 Acc: 0.9167\n",
            "train Loss: 0.0146 Acc: 1.0000\n",
            "test Loss: 0.2555 Acc: 0.9115\n",
            "train Loss: 0.0156 Acc: 0.9987\n",
            "test Loss: 0.2475 Acc: 0.9149\n"
          ]
        }
      ]
    },
    {
      "cell_type": "code",
      "source": [
        "#model evaluation\n",
        "# Evaluate the model on the test set\n",
        "model.eval()\n",
        "true_labels = []\n",
        "predictions = []\n",
        "\n",
        "#make a list of true lables & predictions by using test data set\n",
        "for inputs, labels in dataloaders['test']:\n",
        "    inputs = inputs.to(device)\n",
        "    labels = labels.to(device)\n",
        "\n",
        "    with torch.no_grad():\n",
        "        outputs = model(inputs)\n",
        "        #outputs throws out probability for each class\n",
        "        _, preds = torch.max(outputs, 1)\n",
        "        #torch.max = most probable class\n",
        "        #_ = probability for each class\n",
        "        #preds variable means the class\n",
        "\n",
        "    #extend means append labels to true labels, bc true labels is the answer\n",
        "    #append preds to predictions list & then compare to test accuracy\n",
        "    #we use cpu here to restore them to cpu enviornment, GPU is a diff enviornement\n",
        "    #wan to view labels & preds as numpy arrayas\n",
        "    true_labels.extend(labels.cpu().numpy())\n",
        "    predictions.extend(preds.cpu().numpy())\n",
        "\n",
        "# Get a test accuracy\n",
        "#counts how many true labels = prediction labels, * 100 for percentage value\n",
        "test_acc = np.sum(np.array(true_labels) == np.array(predictions)) / len(true_labels)\n",
        "test_acc_percent = test_acc * 100\n",
        "print(f'Test Accuracy: {test_acc_percent:.2f}%')"
      ],
      "metadata": {
        "id": "NBQ5ObrkzpOg",
        "colab": {
          "base_uri": "https://localhost:8080/"
        },
        "outputId": "35563b88-eced-49ab-977b-e8359c0075c7"
      },
      "execution_count": null,
      "outputs": [
        {
          "output_type": "stream",
          "name": "stdout",
          "text": [
            "Test Accuracy: 89.76%\n"
          ]
        }
      ]
    },
    {
      "cell_type": "code",
      "source": [
        "conf_matrix = confusion_matrix(true_labels, predictions)\n",
        "conf_matrix = conf_matrix.astype('float') / conf_matrix.sum(axis=1)[:, np.newaxis]\n",
        "#divides each number by sum of its label to make it a number > 0, < 1\n",
        "\n",
        "\n",
        "#rest of code is for plotting:\n",
        "# Get the class labels\n",
        "num_classes = 2\n",
        "class_labels = [str(i) for i in range(num_classes)]\n",
        "\n",
        "# Create a heatmap of the confusion matrix\n",
        "plt.figure(figsize=(8, 6))\n",
        "sns.set(font_scale=0.7)\n",
        "ax = sns.heatmap(conf_matrix, annot=True, fmt='.2f', cmap='YlOrBr',\n",
        "                 xticklabels=class_labels,\n",
        "                 yticklabels=class_labels)\n",
        "plt.xlabel('Predicted Label')\n",
        "plt.ylabel('True Label')\n",
        "plt.title('Confusion Matrix (Using ResNet-50 model pretrained on ImageNet on Brazilian Coffee data without Near Infrared)')\n",
        "\n",
        "# Rotate x-axis tick labels by 45 degrees\n",
        "ax.set_xticklabels(ax.get_xticklabels(), rotation=45)\n",
        "\n",
        "# Add a black border around the confusion matrix\n",
        "for _, spine in ax.spines.items():\n",
        "    spine.set_visible(True)\n",
        "    spine.set_color('black')\n",
        "\n",
        "plt.show()"
      ],
      "metadata": {
        "id": "C76ilZeN1-t0"
      },
      "execution_count": null,
      "outputs": []
    },
    {
      "cell_type": "code",
      "source": [],
      "metadata": {
        "id": "GGDfhcpY4zSM"
      },
      "execution_count": null,
      "outputs": []
    }
  ]
}